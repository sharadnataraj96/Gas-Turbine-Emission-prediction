{
  "nbformat": 4,
  "nbformat_minor": 0,
  "metadata": {
    "colab": {
      "name": "Gas Turbine- SVM regression",
      "provenance": [],
      "mount_file_id": "1Ib68f6ZVHRRzG7h66kgbP2oAS9WJx2TE",
      "authorship_tag": "ABX9TyNXTBvII4AyJfwshzXkHhQE",
      "include_colab_link": true
    },
    "kernelspec": {
      "name": "python3",
      "display_name": "Python 3"
    }
  },
  "cells": [
    {
      "cell_type": "markdown",
      "metadata": {
        "id": "view-in-github",
        "colab_type": "text"
      },
      "source": [
        "<a href=\"https://colab.research.google.com/github/sharadnataraj96/Gas-Turbine-Emission-prediction/blob/SVM/Gas_Turbine_SVM_regression.ipynb\" target=\"_parent\"><img src=\"https://colab.research.google.com/assets/colab-badge.svg\" alt=\"Open In Colab\"/></a>"
      ]
    },
    {
      "cell_type": "code",
      "metadata": {
        "id": "i5eNbCJSNNWT",
        "outputId": "69777453-0e33-4124-cd5e-71b3d69d60a2",
        "colab": {
          "base_uri": "https://localhost:8080/",
          "height": 34
        }
      },
      "source": [
        "from google.colab import drive\n",
        "drive.mount('/content/drive')"
      ],
      "execution_count": 1,
      "outputs": [
        {
          "output_type": "stream",
          "text": [
            "Drive already mounted at /content/drive; to attempt to forcibly remount, call drive.mount(\"/content/drive\", force_remount=True).\n"
          ],
          "name": "stdout"
        }
      ]
    },
    {
      "cell_type": "code",
      "metadata": {
        "id": "lI3WHjTaNSoW"
      },
      "source": [
        "import pandas as pd\n",
        "import matplotlib.pyplot as plt\n",
        "import numpy as np"
      ],
      "execution_count": 2,
      "outputs": []
    },
    {
      "cell_type": "code",
      "metadata": {
        "id": "P8lKLd6TNna9"
      },
      "source": [
        "data_1 = pd.read_csv(\"/content/drive/My Drive/Dataset/gt_2011.csv\")\n",
        "X= data_1.iloc[:, :-2].values\n",
        "Y=data_1.iloc[:, -2:].values"
      ],
      "execution_count": 3,
      "outputs": []
    },
    {
      "cell_type": "code",
      "metadata": {
        "id": "YefIm1HwNo3u",
        "outputId": "d5d301ce-1501-40fb-b919-bca0326ddddb",
        "colab": {
          "base_uri": "https://localhost:8080/",
          "height": 134
        }
      },
      "source": [
        "print(X)"
      ],
      "execution_count": 4,
      "outputs": [
        {
          "output_type": "stream",
          "text": [
            "[[   4.5878 1018.7      83.675  ...  549.83    134.67     11.898 ]\n",
            " [   4.2932 1018.3      84.235  ...  550.05    134.67     11.892 ]\n",
            " [   3.9045 1018.4      84.858  ...  550.19    135.1      12.042 ]\n",
            " ...\n",
            " [   7.2647 1006.3      99.496  ...  537.32    110.19     10.483 ]\n",
            " [   7.006  1006.8      99.008  ...  541.24    110.74     10.533 ]\n",
            " [   6.9279 1007.2      97.533  ...  545.85    111.58     10.583 ]]\n"
          ],
          "name": "stdout"
        }
      ]
    },
    {
      "cell_type": "code",
      "metadata": {
        "id": "9b_TZg4IiA-a",
        "outputId": "bd09ebb6-26e8-40fd-cf88-b0a61a377064",
        "colab": {
          "base_uri": "https://localhost:8080/",
          "height": 134
        }
      },
      "source": [
        "print(Y)"
      ],
      "execution_count": 5,
      "outputs": [
        {
          "output_type": "stream",
          "text": [
            "[[ 0.32663 81.952  ]\n",
            " [ 0.44784 82.377  ]\n",
            " [ 0.45144 83.776  ]\n",
            " ...\n",
            " [ 7.9632  90.912  ]\n",
            " [ 6.2494  93.227  ]\n",
            " [ 4.9816  92.498  ]]\n"
          ],
          "name": "stdout"
        }
      ]
    },
    {
      "cell_type": "code",
      "metadata": {
        "id": "sRBOt3fxig9w"
      },
      "source": [
        "from sklearn.preprocessing import StandardScaler\n",
        "sc_x = StandardScaler()\n",
        "sc_y = StandardScaler()\n",
        "X = sc_x.fit_transform(X)"
      ],
      "execution_count": 6,
      "outputs": []
    },
    {
      "cell_type": "markdown",
      "metadata": {
        "id": "0bbZ0aXFXmDS"
      },
      "source": [
        "X = sc_x.fit_transform(X)\n",
        "Y = sc_y.fit_transform(Y)"
      ]
    },
    {
      "cell_type": "code",
      "metadata": {
        "id": "sMO2YrVEWjAK",
        "outputId": "91531d41-ff65-4c87-b3b1-c9b5dbdfb9da",
        "colab": {
          "base_uri": "https://localhost:8080/",
          "height": 134
        }
      },
      "source": [
        "print(Y)"
      ],
      "execution_count": 7,
      "outputs": [
        {
          "output_type": "stream",
          "text": [
            "[[ 0.32663 81.952  ]\n",
            " [ 0.44784 82.377  ]\n",
            " [ 0.45144 83.776  ]\n",
            " ...\n",
            " [ 7.9632  90.912  ]\n",
            " [ 6.2494  93.227  ]\n",
            " [ 4.9816  92.498  ]]\n"
          ],
          "name": "stdout"
        }
      ]
    },
    {
      "cell_type": "code",
      "metadata": {
        "id": "GzSj8PafihlL"
      },
      "source": [
        "from sklearn.model_selection import train_test_split\n",
        "X_train, X_test, y_train, y_test = train_test_split(X, Y, test_size = 0.2, random_state = 0)"
      ],
      "execution_count": 8,
      "outputs": []
    },
    {
      "cell_type": "code",
      "metadata": {
        "id": "-00gfMenjEug"
      },
      "source": [
        "y_co_train = y_train[ :, :1]\n",
        "y_co_test = y_test[ :, :1]\n",
        "y_nox_train = y_train[ :, 1:]\n",
        "y_nox_test = y_test[ :, 1:]"
      ],
      "execution_count": 9,
      "outputs": []
    },
    {
      "cell_type": "code",
      "metadata": {
        "id": "ewCCQg4rZw0N",
        "outputId": "92beab29-fd7a-4491-ff71-5272deab7945",
        "colab": {
          "base_uri": "https://localhost:8080/",
          "height": 134
        }
      },
      "source": [
        "print(y_co_train)"
      ],
      "execution_count": 10,
      "outputs": [
        {
          "output_type": "stream",
          "text": [
            "[[1.4727 ]\n",
            " [0.35244]\n",
            " [1.4391 ]\n",
            " ...\n",
            " [0.62331]\n",
            " [1.7197 ]\n",
            " [0.92423]]\n"
          ],
          "name": "stdout"
        }
      ]
    },
    {
      "cell_type": "code",
      "metadata": {
        "id": "VgwITVUCX2ct"
      },
      "source": [
        "sc_y_co = StandardScaler()\n",
        "sc_y_nox = StandardScaler()\n",
        "y_co_train = sc_y_co.fit_transform(y_co_train)\n",
        "y_co_test = sc_y_co.fit_transform(y_co_test)\n",
        "y_nox_train = sc_y_nox.fit_transform(y_nox_train)\n",
        "y_nox_test = sc_y_nox.fit_transform(y_nox_test)"
      ],
      "execution_count": 11,
      "outputs": []
    },
    {
      "cell_type": "code",
      "metadata": {
        "id": "eVawZwOzZ0Yw",
        "outputId": "7fd85575-50aa-4beb-da49-45751133b28b",
        "colab": {
          "base_uri": "https://localhost:8080/",
          "height": 134
        }
      },
      "source": [
        "print(y_co_train)"
      ],
      "execution_count": 12,
      "outputs": [
        {
          "output_type": "stream",
          "text": [
            "[[-0.05320553]\n",
            " [-0.65972612]\n",
            " [-0.07139692]\n",
            " ...\n",
            " [-0.51307424]\n",
            " [ 0.08052288]\n",
            " [-0.35015298]]\n"
          ],
          "name": "stdout"
        }
      ]
    },
    {
      "cell_type": "code",
      "metadata": {
        "id": "RQvZsHM6indQ",
        "outputId": "8842f8bb-6112-4880-d784-d75ee27ed80c",
        "colab": {
          "base_uri": "https://localhost:8080/",
          "height": 138
        }
      },
      "source": [
        "from sklearn.svm import SVR\n",
        "regressor_co = SVR(kernel = 'rbf')\n",
        "regressor_nox = SVR(kernel = 'rbf')\n",
        "regressor_co.fit(X_train, y_co_train)\n",
        "regressor_nox.fit(X_train, y_nox_train)"
      ],
      "execution_count": 13,
      "outputs": [
        {
          "output_type": "stream",
          "text": [
            "/usr/local/lib/python3.6/dist-packages/sklearn/utils/validation.py:760: DataConversionWarning: A column-vector y was passed when a 1d array was expected. Please change the shape of y to (n_samples, ), for example using ravel().\n",
            "  y = column_or_1d(y, warn=True)\n",
            "/usr/local/lib/python3.6/dist-packages/sklearn/utils/validation.py:760: DataConversionWarning: A column-vector y was passed when a 1d array was expected. Please change the shape of y to (n_samples, ), for example using ravel().\n",
            "  y = column_or_1d(y, warn=True)\n"
          ],
          "name": "stderr"
        },
        {
          "output_type": "execute_result",
          "data": {
            "text/plain": [
              "SVR(C=1.0, cache_size=200, coef0=0.0, degree=3, epsilon=0.1, gamma='scale',\n",
              "    kernel='rbf', max_iter=-1, shrinking=True, tol=0.001, verbose=False)"
            ]
          },
          "metadata": {
            "tags": []
          },
          "execution_count": 13
        }
      ]
    },
    {
      "cell_type": "code",
      "metadata": {
        "id": "C3tLEYJviskQ"
      },
      "source": [
        "y_pred_co = regressor_co.predict(X_test)\n",
        "y_pred_nox = regressor_nox.predict(X_test)"
      ],
      "execution_count": 14,
      "outputs": []
    },
    {
      "cell_type": "code",
      "metadata": {
        "id": "JxvstfAaUp5Q",
        "outputId": "71bfaa05-a4d2-407e-af9f-36b41fe5e343",
        "colab": {
          "base_uri": "https://localhost:8080/",
          "height": 50
        }
      },
      "source": [
        "print(y_pred_co)"
      ],
      "execution_count": 15,
      "outputs": [
        {
          "output_type": "stream",
          "text": [
            "[-0.17744477 -0.37537395 -0.39452503 ... -0.32577198 -0.3165547\n",
            " -0.35753007]\n"
          ],
          "name": "stdout"
        }
      ]
    },
    {
      "cell_type": "code",
      "metadata": {
        "id": "ijm8JY1IrA5L",
        "outputId": "3a684c86-6e0e-4d6b-df81-4fd1609eb2f9",
        "colab": {
          "base_uri": "https://localhost:8080/",
          "height": 34
        }
      },
      "source": [
        "rss_co= np.sum(np.square(y_co_test - y_pred_co))\n",
        "print(rss_co)"
      ],
      "execution_count": 16,
      "outputs": [
        {
          "output_type": "stream",
          "text": [
            "3720348.175928895\n"
          ],
          "name": "stdout"
        }
      ]
    },
    {
      "cell_type": "code",
      "metadata": {
        "id": "0d4oOm1XWZgX",
        "outputId": "81e1c435-d290-4616-eb12-959688a2642b",
        "colab": {
          "base_uri": "https://localhost:8080/",
          "height": 34
        }
      },
      "source": [
        "rss_nox= np.sum(np.square(y_nox_test - y_pred_nox))\n",
        "print(rss_nox)"
      ],
      "execution_count": 17,
      "outputs": [
        {
          "output_type": "stream",
          "text": [
            "4294565.198161719\n"
          ],
          "name": "stdout"
        }
      ]
    },
    {
      "cell_type": "code",
      "metadata": {
        "id": "z0pV_9PSaLg5",
        "outputId": "b4bf7101-7b25-4b5d-f720-a393df9e03ac",
        "colab": {
          "base_uri": "https://localhost:8080/",
          "height": 282
        }
      },
      "source": [
        "plt.plot(sc_y_co.inverse_transform(y_co_test))"
      ],
      "execution_count": 18,
      "outputs": [
        {
          "output_type": "execute_result",
          "data": {
            "text/plain": [
              "[<matplotlib.lines.Line2D at 0x7ffa384d4978>]"
            ]
          },
          "metadata": {
            "tags": []
          },
          "execution_count": 18
        },
        {
          "output_type": "display_data",
          "data": {
            "image/png": "[encoded data removed]",
            "text/plain": [
              "<Figure size 432x288 with 1 Axes>"
            ]
          },
          "metadata": {
            "tags": [],
            "needs_background": "light"
          }
        }
      ]
    },
    {
      "cell_type": "code",
      "metadata": {
        "id": "ys5-dwaqaXvH",
        "outputId": "1b46009d-5b30-4aa6-ed2b-1a4f090decf5",
        "colab": {
          "base_uri": "https://localhost:8080/",
          "height": 282
        }
      },
      "source": [
        "plt.plot(sc_y_co.inverse_transform(y_pred_co))"
      ],
      "execution_count": 19,
      "outputs": [
        {
          "output_type": "execute_result",
          "data": {
            "text/plain": [
              "[<matplotlib.lines.Line2D at 0x7ffa37fad6a0>]"
            ]
          },
          "metadata": {
            "tags": []
          },
          "execution_count": 19
        },
        {
          "output_type": "display_data",
          "data": {
            "image/png": "[encoded data removed]",
            "text/plain": [
              "<Figure size 432x288 with 1 Axes>"
            ]
          },
          "metadata": {
            "tags": [],
            "needs_background": "light"
          }
        }
      ]
    },
    {
      "cell_type": "code",
      "metadata": {
        "id": "7spcRK7CarGm",
        "outputId": "7a334a0c-c4aa-4371-e49c-b382cc7718a2",
        "colab": {
          "base_uri": "https://localhost:8080/",
          "height": 282
        }
      },
      "source": [
        "plt.plot(sc_y_co.inverse_transform(y_nox_test))"
      ],
      "execution_count": 20,
      "outputs": [
        {
          "output_type": "execute_result",
          "data": {
            "text/plain": [
              "[<matplotlib.lines.Line2D at 0x7ffa37f280b8>]"
            ]
          },
          "metadata": {
            "tags": []
          },
          "execution_count": 20
        },
        {
          "output_type": "display_data",
          "data": {
            "image/png": "[encoded data removed]",
            "text/plain": [
              "<Figure size 432x288 with 1 Axes>"
            ]
          },
          "metadata": {
            "tags": [],
            "needs_background": "light"
          }
        }
      ]
    },
    {
      "cell_type": "code",
      "metadata": {
        "id": "TXfwNDEXav7f",
        "outputId": "91acc775-9f83-4ab9-cf26-9dc2099e91e4",
        "colab": {
          "base_uri": "https://localhost:8080/",
          "height": 282
        }
      },
      "source": [
        "plt.plot(sc_y_co.inverse_transform(y_pred_nox))"
      ],
      "execution_count": 21,
      "outputs": [
        {
          "output_type": "execute_result",
          "data": {
            "text/plain": [
              "[<matplotlib.lines.Line2D at 0x7ffa37f0bb70>]"
            ]
          },
          "metadata": {
            "tags": []
          },
          "execution_count": 21
        },
        {
          "output_type": "display_data",
          "data": {
            "image/png": "[encoded data removed]",
            "text/plain": [
              "<Figure size 432x288 with 1 Axes>"
            ]
          },
          "metadata": {
            "tags": [],
            "needs_background": "light"
          }
        }
      ]
    }
  ]
}